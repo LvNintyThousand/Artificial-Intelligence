{
 "cells": [
  {
   "cell_type": "code",
   "execution_count": 1,
   "metadata": {},
   "outputs": [],
   "source": [
    "import pandas as pd \n",
    "import numpy as np\n",
    "import requests\n",
    "import json \n",
    "import matplotlib.pyplot as plt\n",
    "import pandas_datareader as web"
   ]
  },
  {
   "cell_type": "code",
   "execution_count": 3,
   "metadata": {},
   "outputs": [],
   "source": [
    "tickers = (\"FB\",\"AMZN\",\"AAPL\",\"MSFT\",\"GOOG\",\"^GSPC\")\n",
    "startDate = \"2018-01-01\"\n",
    "endDate = \"2018-12-31\"\n",
    "\n",
    "def get_yahoo_data(ticker,startDate,endDate):\n",
    "    data = web.get_data_yahoo(ticker,start = startDate,end = endDate)\n",
    "    print(\"Name: {}\\nNo. of values:{}\\n\\n{}\\n\".format(ticker,len(data),data.head()))\n",
    "    return data"
   ]
  },
  {
   "cell_type": "code",
   "execution_count": 4,
   "metadata": {},
   "outputs": [
    {
     "name": "stdout",
     "output_type": "stream",
     "text": [
      "Name: FB\n",
      "No. of values:251\n",
      "\n",
      "                  High         Low        Open       Close    Volume  \\\n",
      "Date                                                                   \n",
      "2018-01-02  181.580002  177.550003  177.679993  181.419998  18151900   \n",
      "2018-01-03  184.779999  181.330002  181.880005  184.669998  16886600   \n",
      "2018-01-04  186.210007  184.100006  184.899994  184.330002  13880900   \n",
      "2018-01-05  186.899994  184.929993  185.589996  186.850006  13574500   \n",
      "2018-01-08  188.899994  186.330002  187.199997  188.279999  17994700   \n",
      "\n",
      "             Adj Close  \n",
      "Date                    \n",
      "2018-01-02  181.419998  \n",
      "2018-01-03  184.669998  \n",
      "2018-01-04  184.330002  \n",
      "2018-01-05  186.850006  \n",
      "2018-01-08  188.279999  \n",
      "\n",
      "Name: AMZN\n",
      "No. of values:251\n",
      "\n",
      "                   High          Low         Open        Close   Volume  \\\n",
      "Date                                                                      \n",
      "2018-01-02  1190.000000  1170.510010  1172.000000  1189.010010  2694500   \n",
      "2018-01-03  1205.489990  1188.300049  1188.300049  1204.199951  3108800   \n",
      "2018-01-04  1215.869995  1204.660034  1205.000000  1209.589966  3022100   \n",
      "2018-01-05  1229.140015  1210.000000  1217.510010  1229.140015  3544700   \n",
      "2018-01-08  1253.079956  1232.030029  1236.000000  1246.869995  4279500   \n",
      "\n",
      "              Adj Close  \n",
      "Date                     \n",
      "2018-01-02  1189.010010  \n",
      "2018-01-03  1204.199951  \n",
      "2018-01-04  1209.589966  \n",
      "2018-01-05  1229.140015  \n",
      "2018-01-08  1246.869995  \n",
      "\n",
      "Name: AAPL\n",
      "No. of values:251\n",
      "\n",
      "                  High         Low        Open       Close      Volume  \\\n",
      "Date                                                                     \n",
      "2018-01-02  172.300003  169.259995  170.160004  172.259995  25555900.0   \n",
      "2018-01-03  174.550003  171.960007  172.529999  172.229996  29517900.0   \n",
      "2018-01-04  173.470001  172.080002  172.539993  173.029999  22434600.0   \n",
      "2018-01-05  175.369995  173.050003  173.440002  175.000000  23660000.0   \n",
      "2018-01-08  175.610001  173.929993  174.350006  174.350006  20567800.0   \n",
      "\n",
      "             Adj Close  \n",
      "Date                    \n",
      "2018-01-02  167.199890  \n",
      "2018-01-03  167.170776  \n",
      "2018-01-04  167.947266  \n",
      "2018-01-05  169.859406  \n",
      "2018-01-08  169.228500  \n",
      "\n",
      "Name: MSFT\n",
      "No. of values:251\n",
      "\n",
      "                 High        Low       Open      Close      Volume  Adj Close\n",
      "Date                                                                         \n",
      "2018-01-02  86.309998  85.500000  86.129997  85.949997  22483800.0  83.256378\n",
      "2018-01-03  86.510002  85.970001  86.059998  86.349998  26061400.0  83.643845\n",
      "2018-01-04  87.660004  86.570000  86.589996  87.110001  21912000.0  84.380028\n",
      "2018-01-05  88.410004  87.430000  87.660004  88.190002  23407100.0  85.426178\n",
      "2018-01-08  88.580002  87.599998  88.199997  88.279999  22113000.0  85.513359\n",
      "\n",
      "Name: GOOG\n",
      "No. of values:251\n",
      "\n",
      "                   High          Low         Open        Close   Volume  \\\n",
      "Date                                                                      \n",
      "2018-01-02  1066.939941  1045.229980  1048.339966  1065.000000  1237600   \n",
      "2018-01-03  1086.290039  1063.209961  1064.310059  1082.479980  1430200   \n",
      "2018-01-04  1093.569946  1084.001953  1088.000000  1086.400024  1004600   \n",
      "2018-01-05  1104.250000  1092.000000  1094.000000  1102.229980  1279100   \n",
      "2018-01-08  1111.270020  1101.619995  1102.229980  1106.939941  1047600   \n",
      "\n",
      "              Adj Close  \n",
      "Date                     \n",
      "2018-01-02  1065.000000  \n",
      "2018-01-03  1082.479980  \n",
      "2018-01-04  1086.400024  \n",
      "2018-01-05  1102.229980  \n",
      "2018-01-08  1106.939941  \n",
      "\n",
      "Name: ^GSPC\n",
      "No. of values:251\n",
      "\n",
      "                   High          Low         Open        Close      Volume  \\\n",
      "Date                                                                         \n",
      "2018-01-02  2695.889893  2682.360107  2683.729980  2695.810059  3367250000   \n",
      "2018-01-03  2714.370117  2697.770020  2697.850098  2713.060059  3538660000   \n",
      "2018-01-04  2729.290039  2719.070068  2719.310059  2723.989990  3695260000   \n",
      "2018-01-05  2743.449951  2727.919922  2731.330078  2743.149902  3236620000   \n",
      "2018-01-08  2748.510010  2737.600098  2742.669922  2747.709961  3242650000   \n",
      "\n",
      "              Adj Close  \n",
      "Date                     \n",
      "2018-01-02  2695.810059  \n",
      "2018-01-03  2713.060059  \n",
      "2018-01-04  2723.989990  \n",
      "2018-01-05  2743.149902  \n",
      "2018-01-08  2747.709961  \n",
      "\n"
     ]
    }
   ],
   "source": [
    "facebook = get_yahoo_data(tickers[0],startDate,endDate)\n",
    "amazon = get_yahoo_data(tickers[1],startDate,endDate)\n",
    "apple = get_yahoo_data(tickers[2],startDate,endDate)\n",
    "microsoft = get_yahoo_data(tickers[3],startDate,endDate)\n",
    "google = get_yahoo_data(tickers[4],startDate,endDate)\n",
    "snp500 = get_yahoo_data(tickers[5],startDate,endDate)"
   ]
  },
  {
   "cell_type": "code",
   "execution_count": 5,
   "metadata": {},
   "outputs": [],
   "source": [
    "def add_perchange(df):\n",
    "    df[\"pctChange\"] = df.iloc[:,5].pct_change()\n",
    "    return df\n",
    "\n",
    "def perChange_plot(df):\n",
    "    plt.bar(df.index,df.iloc[:,6])\n",
    "    plt.xlabel(\"Year-Month\")\n",
    "    plt.ylabel(\"Percent change\")"
   ]
  },
  {
   "cell_type": "code",
   "execution_count": 6,
   "metadata": {},
   "outputs": [
    {
     "data": {
      "text/html": [
       "<div>\n",
       "<style scoped>\n",
       "    .dataframe tbody tr th:only-of-type {\n",
       "        vertical-align: middle;\n",
       "    }\n",
       "\n",
       "    .dataframe tbody tr th {\n",
       "        vertical-align: top;\n",
       "    }\n",
       "\n",
       "    .dataframe thead th {\n",
       "        text-align: right;\n",
       "    }\n",
       "</style>\n",
       "<table border=\"1\" class=\"dataframe\">\n",
       "  <thead>\n",
       "    <tr style=\"text-align: right;\">\n",
       "      <th></th>\n",
       "      <th>High</th>\n",
       "      <th>Low</th>\n",
       "      <th>Open</th>\n",
       "      <th>Close</th>\n",
       "      <th>Volume</th>\n",
       "      <th>Adj Close</th>\n",
       "      <th>pctChange</th>\n",
       "    </tr>\n",
       "    <tr>\n",
       "      <th>Date</th>\n",
       "      <th></th>\n",
       "      <th></th>\n",
       "      <th></th>\n",
       "      <th></th>\n",
       "      <th></th>\n",
       "      <th></th>\n",
       "      <th></th>\n",
       "    </tr>\n",
       "  </thead>\n",
       "  <tbody>\n",
       "    <tr>\n",
       "      <td>2018-01-02</td>\n",
       "      <td>181.580002</td>\n",
       "      <td>177.550003</td>\n",
       "      <td>177.679993</td>\n",
       "      <td>181.419998</td>\n",
       "      <td>18151900</td>\n",
       "      <td>181.419998</td>\n",
       "      <td>NaN</td>\n",
       "    </tr>\n",
       "    <tr>\n",
       "      <td>2018-01-03</td>\n",
       "      <td>184.779999</td>\n",
       "      <td>181.330002</td>\n",
       "      <td>181.880005</td>\n",
       "      <td>184.669998</td>\n",
       "      <td>16886600</td>\n",
       "      <td>184.669998</td>\n",
       "      <td>0.017914</td>\n",
       "    </tr>\n",
       "    <tr>\n",
       "      <td>2018-01-04</td>\n",
       "      <td>186.210007</td>\n",
       "      <td>184.100006</td>\n",
       "      <td>184.899994</td>\n",
       "      <td>184.330002</td>\n",
       "      <td>13880900</td>\n",
       "      <td>184.330002</td>\n",
       "      <td>-0.001841</td>\n",
       "    </tr>\n",
       "    <tr>\n",
       "      <td>2018-01-05</td>\n",
       "      <td>186.899994</td>\n",
       "      <td>184.929993</td>\n",
       "      <td>185.589996</td>\n",
       "      <td>186.850006</td>\n",
       "      <td>13574500</td>\n",
       "      <td>186.850006</td>\n",
       "      <td>0.013671</td>\n",
       "    </tr>\n",
       "    <tr>\n",
       "      <td>2018-01-08</td>\n",
       "      <td>188.899994</td>\n",
       "      <td>186.330002</td>\n",
       "      <td>187.199997</td>\n",
       "      <td>188.279999</td>\n",
       "      <td>17994700</td>\n",
       "      <td>188.279999</td>\n",
       "      <td>0.007653</td>\n",
       "    </tr>\n",
       "  </tbody>\n",
       "</table>\n",
       "</div>"
      ],
      "text/plain": [
       "                  High         Low        Open       Close    Volume  \\\n",
       "Date                                                                   \n",
       "2018-01-02  181.580002  177.550003  177.679993  181.419998  18151900   \n",
       "2018-01-03  184.779999  181.330002  181.880005  184.669998  16886600   \n",
       "2018-01-04  186.210007  184.100006  184.899994  184.330002  13880900   \n",
       "2018-01-05  186.899994  184.929993  185.589996  186.850006  13574500   \n",
       "2018-01-08  188.899994  186.330002  187.199997  188.279999  17994700   \n",
       "\n",
       "             Adj Close  pctChange  \n",
       "Date                               \n",
       "2018-01-02  181.419998        NaN  \n",
       "2018-01-03  184.669998   0.017914  \n",
       "2018-01-04  184.330002  -0.001841  \n",
       "2018-01-05  186.850006   0.013671  \n",
       "2018-01-08  188.279999   0.007653  "
      ]
     },
     "execution_count": 6,
     "metadata": {},
     "output_type": "execute_result"
    }
   ],
   "source": [
    "facebook = add_perchange(facebook)\n",
    "amazon = add_perchange(amazon)\n",
    "apple = add_perchange(apple)\n",
    "microsoft = add_perchange(microsoft)\n",
    "google = add_perchange(google)\n",
    "snp500 = add_perchange(snp500)\n",
    "facebook.head() #Column for percentage change has been added for all"
   ]
  },
  {
   "cell_type": "code",
   "execution_count": 7,
   "metadata": {},
   "outputs": [
    {
     "name": "stderr",
     "output_type": "stream",
     "text": [
      "D:\\Anaconda3\\lib\\site-packages\\pandas\\plotting\\_matplotlib\\converter.py:103: FutureWarning: Using an implicitly registered datetime converter for a matplotlib plotting method. The converter was registered by pandas on import. Future versions of pandas will require you to explicitly register matplotlib converters.\n",
      "\n",
      "To register the converters:\n",
      "\t>>> from pandas.plotting import register_matplotlib_converters\n",
      "\t>>> register_matplotlib_converters()\n",
      "  warnings.warn(msg, FutureWarning)\n"
     ]
    },
    {
     "data": {
      "image/png": "[encoded data removed]",
      "text/plain": [
       "<Figure size 432x288 with 1 Axes>"
      ]
     },
     "metadata": {
      "needs_background": "light"
     },
     "output_type": "display_data"
    }
   ],
   "source": [
    "perChange_plot(facebook)"
   ]
  },
  {
   "cell_type": "code",
   "execution_count": 8,
   "metadata": {},
   "outputs": [
    {
     "data": {
      "image/png": "[encoded data removed]",
      "text/plain": [
       "<Figure size 432x288 with 1 Axes>"
      ]
     },
     "metadata": {
      "needs_background": "light"
     },
     "output_type": "display_data"
    }
   ],
   "source": [
    "perChange_plot(amazon)"
   ]
  },
  {
   "cell_type": "code",
   "execution_count": 9,
   "metadata": {},
   "outputs": [
    {
     "data": {
      "image/png": "[encoded data removed]",
      "text/plain": [
       "<Figure size 432x288 with 1 Axes>"
      ]
     },
     "metadata": {
      "needs_background": "light"
     },
     "output_type": "display_data"
    }
   ],
   "source": [
    "perChange_plot(apple)"
   ]
  },
  {
   "cell_type": "code",
   "execution_count": 10,
   "metadata": {},
   "outputs": [
    {
     "data": {
      "image/png": "[encoded data removed]",
      "text/plain": [
       "<Figure size 432x288 with 1 Axes>"
      ]
     },
     "metadata": {
      "needs_background": "light"
     },
     "output_type": "display_data"
    }
   ],
   "source": [
    "perChange_plot(microsoft)"
   ]
  },
  {
   "cell_type": "code",
   "execution_count": 11,
   "metadata": {},
   "outputs": [
    {
     "data": {
      "image/png": "[encoded data removed]",
      "text/plain": [
       "<Figure size 432x288 with 1 Axes>"
      ]
     },
     "metadata": {
      "needs_background": "light"
     },
     "output_type": "display_data"
    }
   ],
   "source": [
    "perChange_plot(google)"
   ]
  },
  {
   "cell_type": "code",
   "execution_count": 12,
   "metadata": {},
   "outputs": [],
   "source": [
    "def print_info(df):\n",
    "    data = df.iloc[:,6]\n",
    "    print(\"Mean: {}\\nSD: {}\\nVariance: {}\\nMax: {}\\nMin: {}\\n\".format(data.mean(),\n",
    "                                                                 data.std(),\n",
    "                                                                 data.var(),\n",
    "                                                                 data.max(),\n",
    "                                                                 data.min()))\n"
   ]
  },
  {
   "cell_type": "code",
   "execution_count": 13,
   "metadata": {},
   "outputs": [
    {
     "name": "stdout",
     "output_type": "stream",
     "text": [
      "Mean: -0.0010025208015867083\n",
      "SD: 0.023948563847251223\n",
      "Variance: 0.0005735337103458683\n",
      "Max: 0.09061306906806821\n",
      "Min: -0.1896092206582256\n",
      "\n",
      "Mean: 0.0011937267617928079\n",
      "SD: 0.02276823038454494\n",
      "Variance: 0.0005183923148437154\n",
      "Max: 0.09445226581602428\n",
      "Min: -0.07819679487096065\n",
      "\n",
      "Mean: -0.0001291092118931334\n",
      "SD: 0.018106281757256534\n",
      "Variance: 0.0003278374390731608\n",
      "Max: 0.07042153386670402\n",
      "Min: -0.06633078625419342\n",
      "\n",
      "Mean: 0.0008951229647759713\n",
      "SD: 0.01783864960510889\n",
      "Variance: 0.00031821741973385166\n",
      "Max: 0.07570547001270245\n",
      "Min: -0.054338121506550596\n",
      "\n",
      "Mean: 4.5236963362147e-05\n",
      "SD: 0.01772364137592482\n",
      "Variance: 0.0003141274636223943\n",
      "Max: 0.06478047175046653\n",
      "Min: -0.050578650096208544\n",
      "\n",
      "Mean: -0.0002328970421437324\n",
      "SD: 0.010749469402513508\n",
      "Variance: 0.00011555109243557412\n",
      "Max: 0.04959374278953943\n",
      "Min: -0.04097922480422822\n",
      "\n"
     ]
    }
   ],
   "source": [
    "print_info(facebook)\n",
    "print_info(amazon)\n",
    "print_info(apple)\n",
    "print_info(microsoft)\n",
    "print_info(google)\n",
    "print_info(snp500)"
   ]
  },
  {
   "cell_type": "code",
   "execution_count": 14,
   "metadata": {},
   "outputs": [],
   "source": [
    "def fill_na(df):\n",
    "    return df.fillna(df.iloc[:,6].mean(), inplace = True)\n",
    "\n",
    "fill_na(facebook)\n",
    "fill_na(amazon)\n",
    "fill_na(apple)\n",
    "fill_na(microsoft)\n",
    "fill_na(google)\n",
    "fill_na(snp500)"
   ]
  },
  {
   "cell_type": "code",
   "execution_count": 15,
   "metadata": {},
   "outputs": [],
   "source": [
    "from sklearn.model_selection import train_test_split\n",
    "from sklearn.linear_model import LinearRegression\n",
    "from sklearn import metrics"
   ]
  },
  {
   "cell_type": "code",
   "execution_count": 24,
   "metadata": {},
   "outputs": [
    {
     "name": "stdout",
     "output_type": "stream",
     "text": [
      "R squared is: 0.33118288146365105\n",
      "mean squared error is: 5.482433923727342e-05\n",
      "slope coefficient is: [0.25430476]\n",
      "intercept is: -9.523337033801882e-05\n"
     ]
    },
    {
     "data": {
      "image/png": "[encoded data removed]",
      "text/plain": [
       "<Figure size 432x288 with 1 Axes>"
      ]
     },
     "metadata": {
      "needs_background": "light"
     },
     "output_type": "display_data"
    }
   ],
   "source": [
    "def reg(f,y):\n",
    "    f_train, f_test, y_train, y_test = train_test_split(f,y, random_state=0)\n",
    "    \n",
    "    linreg = LinearRegression()\n",
    "    linreg.fit(f_train, y_train)\n",
    "    y_pred = linreg.predict(f_test)\n",
    "    \n",
    "    print(\"R squared is: \"+str(linreg.score(f_train, y_train)))\n",
    "    print(\"mean squared error is: \"+str(metrics.mean_squared_error(y_test,y_pred)))\n",
    "    print(\"slope coefficient is: \"+str(linreg.coef_))\n",
    "    print(\"intercept is: \"+str(linreg.intercept_))\n",
    "    \n",
    "    plt.scatter(f_train, y_train, color = \"red\")\n",
    "    plt.plot(f_train, linreg.predict(f_train), color = \"green\")\n",
    "    plt.title(\"Regression Model\")\n",
    "    plt.xlabel(\"Equity\")\n",
    "    plt.ylabel(\"S&P 500\")\n",
    "    \n",
    "reg( np.array( facebook.iloc[:,6] ).reshape(-1,1),snp500.iloc[:,6] ) #FACEBOOK\n"
   ]
  },
  {
   "cell_type": "code",
   "execution_count": 17,
   "metadata": {},
   "outputs": [
    {
     "name": "stdout",
     "output_type": "stream",
     "text": [
      "R squared is: 0.6307878662843789\n",
      "mean squared error is: 4.995508859737828e-05\n",
      "slope coefficient is: [0.38855346]\n",
      "intercept is: -0.0007054096528095609\n"
     ]
    },
    {
     "data": {
      "image/png": "[encoded data removed]",
      "text/plain": [
       "<Figure size 432x288 with 1 Axes>"
      ]
     },
     "metadata": {
      "needs_background": "light"
     },
     "output_type": "display_data"
    }
   ],
   "source": [
    "reg( np.array( amazon.iloc[:,6] ).reshape(-1,1),snp500.iloc[:,6] ) "
   ]
  },
  {
   "cell_type": "code",
   "execution_count": 18,
   "metadata": {},
   "outputs": [
    {
     "name": "stdout",
     "output_type": "stream",
     "text": [
      "R squared is: 0.6019991490716596\n",
      "mean squared error is: 5.555847256487603e-05\n",
      "slope coefficient is: [0.49085737]\n",
      "intercept is: -0.000341881811262728\n"
     ]
    },
    {
     "data": {
      "image/png": "[encoded data removed]",
      "text/plain": [
       "<Figure size 432x288 with 1 Axes>"
      ]
     },
     "metadata": {
      "needs_background": "light"
     },
     "output_type": "display_data"
    }
   ],
   "source": [
    "reg( np.array( apple.iloc[:,6] ).reshape(-1,1),snp500.iloc[:,6] ) "
   ]
  },
  {
   "cell_type": "code",
   "execution_count": 19,
   "metadata": {},
   "outputs": [
    {
     "name": "stdout",
     "output_type": "stream",
     "text": [
      "R squared is: 0.772986228498945\n",
      "mean squared error is: 2.2307918579141047e-05\n",
      "slope coefficient is: [0.52162544]\n",
      "intercept is: -0.000865817581903342\n"
     ]
    },
    {
     "data": {
      "image/png": "[encoded data removed]",
      "text/plain": [
       "<Figure size 432x288 with 1 Axes>"
      ]
     },
     "metadata": {
      "needs_background": "light"
     },
     "output_type": "display_data"
    }
   ],
   "source": [
    "reg( np.array( microsoft.iloc[:,6] ).reshape(-1,1),snp500.iloc[:,6] ) "
   ]
  },
  {
   "cell_type": "code",
   "execution_count": 20,
   "metadata": {},
   "outputs": [
    {
     "name": "stdout",
     "output_type": "stream",
     "text": [
      "R squared is: 0.68086235438018\n",
      "mean squared error is: 2.082671792509325e-05\n",
      "slope coefficient is: [0.50372039]\n",
      "intercept is: -0.0005176484247949773\n"
     ]
    },
    {
     "data": {
      "image/png": "[encoded data removed]",
      "text/plain": [
       "<Figure size 432x288 with 1 Axes>"
      ]
     },
     "metadata": {
      "needs_background": "light"
     },
     "output_type": "display_data"
    }
   ],
   "source": [
    "reg( np.array( google.iloc[:,6] ).reshape(-1,1),snp500.iloc[:,6] ) "
   ]
  },
  {
   "cell_type": "code",
   "execution_count": 21,
   "metadata": {},
   "outputs": [
    {
     "data": {
      "text/html": [
       "<div>\n",
       "<style scoped>\n",
       "    .dataframe tbody tr th:only-of-type {\n",
       "        vertical-align: middle;\n",
       "    }\n",
       "\n",
       "    .dataframe tbody tr th {\n",
       "        vertical-align: top;\n",
       "    }\n",
       "\n",
       "    .dataframe thead tr th {\n",
       "        text-align: left;\n",
       "    }\n",
       "\n",
       "    .dataframe thead tr:last-of-type th {\n",
       "        text-align: right;\n",
       "    }\n",
       "</style>\n",
       "<table border=\"1\" class=\"dataframe\">\n",
       "  <thead>\n",
       "    <tr>\n",
       "      <th>Attributes</th>\n",
       "      <th colspan=\"6\" halign=\"left\">Adj Close</th>\n",
       "      <th colspan=\"4\" halign=\"left\">Close</th>\n",
       "      <th>...</th>\n",
       "      <th colspan=\"4\" halign=\"left\">Open</th>\n",
       "      <th colspan=\"6\" halign=\"left\">Volume</th>\n",
       "    </tr>\n",
       "    <tr>\n",
       "      <th>Symbols</th>\n",
       "      <th>FB</th>\n",
       "      <th>AMZN</th>\n",
       "      <th>AAPL</th>\n",
       "      <th>NFLX</th>\n",
       "      <th>GOOG</th>\n",
       "      <th>^GSPC</th>\n",
       "      <th>FB</th>\n",
       "      <th>AMZN</th>\n",
       "      <th>AAPL</th>\n",
       "      <th>NFLX</th>\n",
       "      <th>...</th>\n",
       "      <th>AAPL</th>\n",
       "      <th>NFLX</th>\n",
       "      <th>GOOG</th>\n",
       "      <th>^GSPC</th>\n",
       "      <th>FB</th>\n",
       "      <th>AMZN</th>\n",
       "      <th>AAPL</th>\n",
       "      <th>NFLX</th>\n",
       "      <th>GOOG</th>\n",
       "      <th>^GSPC</th>\n",
       "    </tr>\n",
       "    <tr>\n",
       "      <th>Date</th>\n",
       "      <th></th>\n",
       "      <th></th>\n",
       "      <th></th>\n",
       "      <th></th>\n",
       "      <th></th>\n",
       "      <th></th>\n",
       "      <th></th>\n",
       "      <th></th>\n",
       "      <th></th>\n",
       "      <th></th>\n",
       "      <th></th>\n",
       "      <th></th>\n",
       "      <th></th>\n",
       "      <th></th>\n",
       "      <th></th>\n",
       "      <th></th>\n",
       "      <th></th>\n",
       "      <th></th>\n",
       "      <th></th>\n",
       "      <th></th>\n",
       "      <th></th>\n",
       "    </tr>\n",
       "  </thead>\n",
       "  <tbody>\n",
       "    <tr>\n",
       "      <td>2018-01-02</td>\n",
       "      <td>181.419998</td>\n",
       "      <td>1189.010010</td>\n",
       "      <td>167.199890</td>\n",
       "      <td>201.070007</td>\n",
       "      <td>1065.000000</td>\n",
       "      <td>2695.810059</td>\n",
       "      <td>181.419998</td>\n",
       "      <td>1189.010010</td>\n",
       "      <td>172.259995</td>\n",
       "      <td>201.070007</td>\n",
       "      <td>...</td>\n",
       "      <td>170.160004</td>\n",
       "      <td>196.100006</td>\n",
       "      <td>1048.339966</td>\n",
       "      <td>2683.729980</td>\n",
       "      <td>18151900.0</td>\n",
       "      <td>2694500.0</td>\n",
       "      <td>25555900.0</td>\n",
       "      <td>10966900.0</td>\n",
       "      <td>1237600.0</td>\n",
       "      <td>3.367250e+09</td>\n",
       "    </tr>\n",
       "    <tr>\n",
       "      <td>2018-01-03</td>\n",
       "      <td>184.669998</td>\n",
       "      <td>1204.199951</td>\n",
       "      <td>167.170776</td>\n",
       "      <td>205.050003</td>\n",
       "      <td>1082.479980</td>\n",
       "      <td>2713.060059</td>\n",
       "      <td>184.669998</td>\n",
       "      <td>1204.199951</td>\n",
       "      <td>172.229996</td>\n",
       "      <td>205.050003</td>\n",
       "      <td>...</td>\n",
       "      <td>172.529999</td>\n",
       "      <td>202.050003</td>\n",
       "      <td>1064.310059</td>\n",
       "      <td>2697.850098</td>\n",
       "      <td>16886600.0</td>\n",
       "      <td>3108800.0</td>\n",
       "      <td>29517900.0</td>\n",
       "      <td>8591400.0</td>\n",
       "      <td>1430200.0</td>\n",
       "      <td>3.538660e+09</td>\n",
       "    </tr>\n",
       "    <tr>\n",
       "      <td>2018-01-04</td>\n",
       "      <td>184.330002</td>\n",
       "      <td>1209.589966</td>\n",
       "      <td>167.947266</td>\n",
       "      <td>205.630005</td>\n",
       "      <td>1086.400024</td>\n",
       "      <td>2723.989990</td>\n",
       "      <td>184.330002</td>\n",
       "      <td>1209.589966</td>\n",
       "      <td>173.029999</td>\n",
       "      <td>205.630005</td>\n",
       "      <td>...</td>\n",
       "      <td>172.539993</td>\n",
       "      <td>206.199997</td>\n",
       "      <td>1088.000000</td>\n",
       "      <td>2719.310059</td>\n",
       "      <td>13880900.0</td>\n",
       "      <td>3022100.0</td>\n",
       "      <td>22434600.0</td>\n",
       "      <td>6029600.0</td>\n",
       "      <td>1004600.0</td>\n",
       "      <td>3.695260e+09</td>\n",
       "    </tr>\n",
       "    <tr>\n",
       "      <td>2018-01-05</td>\n",
       "      <td>186.850006</td>\n",
       "      <td>1229.140015</td>\n",
       "      <td>169.859406</td>\n",
       "      <td>209.990005</td>\n",
       "      <td>1102.229980</td>\n",
       "      <td>2743.149902</td>\n",
       "      <td>186.850006</td>\n",
       "      <td>1229.140015</td>\n",
       "      <td>175.000000</td>\n",
       "      <td>209.990005</td>\n",
       "      <td>...</td>\n",
       "      <td>173.440002</td>\n",
       "      <td>207.250000</td>\n",
       "      <td>1094.000000</td>\n",
       "      <td>2731.330078</td>\n",
       "      <td>13574500.0</td>\n",
       "      <td>3544700.0</td>\n",
       "      <td>23660000.0</td>\n",
       "      <td>7033200.0</td>\n",
       "      <td>1279100.0</td>\n",
       "      <td>3.236620e+09</td>\n",
       "    </tr>\n",
       "    <tr>\n",
       "      <td>2018-01-08</td>\n",
       "      <td>188.279999</td>\n",
       "      <td>1246.869995</td>\n",
       "      <td>169.228500</td>\n",
       "      <td>212.050003</td>\n",
       "      <td>1106.939941</td>\n",
       "      <td>2747.709961</td>\n",
       "      <td>188.279999</td>\n",
       "      <td>1246.869995</td>\n",
       "      <td>174.350006</td>\n",
       "      <td>212.050003</td>\n",
       "      <td>...</td>\n",
       "      <td>174.350006</td>\n",
       "      <td>210.020004</td>\n",
       "      <td>1102.229980</td>\n",
       "      <td>2742.669922</td>\n",
       "      <td>17994700.0</td>\n",
       "      <td>4279500.0</td>\n",
       "      <td>20567800.0</td>\n",
       "      <td>5580200.0</td>\n",
       "      <td>1047600.0</td>\n",
       "      <td>3.242650e+09</td>\n",
       "    </tr>\n",
       "  </tbody>\n",
       "</table>\n",
       "<p>5 rows × 36 columns</p>\n",
       "</div>"
      ],
      "text/plain": [
       "Attributes   Adj Close                                                    \\\n",
       "Symbols             FB         AMZN        AAPL        NFLX         GOOG   \n",
       "Date                                                                       \n",
       "2018-01-02  181.419998  1189.010010  167.199890  201.070007  1065.000000   \n",
       "2018-01-03  184.669998  1204.199951  167.170776  205.050003  1082.479980   \n",
       "2018-01-04  184.330002  1209.589966  167.947266  205.630005  1086.400024   \n",
       "2018-01-05  186.850006  1229.140015  169.859406  209.990005  1102.229980   \n",
       "2018-01-08  188.279999  1246.869995  169.228500  212.050003  1106.939941   \n",
       "\n",
       "Attributes                    Close                                       ...  \\\n",
       "Symbols           ^GSPC          FB         AMZN        AAPL        NFLX  ...   \n",
       "Date                                                                      ...   \n",
       "2018-01-02  2695.810059  181.419998  1189.010010  172.259995  201.070007  ...   \n",
       "2018-01-03  2713.060059  184.669998  1204.199951  172.229996  205.050003  ...   \n",
       "2018-01-04  2723.989990  184.330002  1209.589966  173.029999  205.630005  ...   \n",
       "2018-01-05  2743.149902  186.850006  1229.140015  175.000000  209.990005  ...   \n",
       "2018-01-08  2747.709961  188.279999  1246.869995  174.350006  212.050003  ...   \n",
       "\n",
       "Attributes        Open                                            Volume  \\\n",
       "Symbols           AAPL        NFLX         GOOG        ^GSPC          FB   \n",
       "Date                                                                       \n",
       "2018-01-02  170.160004  196.100006  1048.339966  2683.729980  18151900.0   \n",
       "2018-01-03  172.529999  202.050003  1064.310059  2697.850098  16886600.0   \n",
       "2018-01-04  172.539993  206.199997  1088.000000  2719.310059  13880900.0   \n",
       "2018-01-05  173.440002  207.250000  1094.000000  2731.330078  13574500.0   \n",
       "2018-01-08  174.350006  210.020004  1102.229980  2742.669922  17994700.0   \n",
       "\n",
       "Attributes                                                              \n",
       "Symbols          AMZN        AAPL        NFLX       GOOG         ^GSPC  \n",
       "Date                                                                    \n",
       "2018-01-02  2694500.0  25555900.0  10966900.0  1237600.0  3.367250e+09  \n",
       "2018-01-03  3108800.0  29517900.0   8591400.0  1430200.0  3.538660e+09  \n",
       "2018-01-04  3022100.0  22434600.0   6029600.0  1004600.0  3.695260e+09  \n",
       "2018-01-05  3544700.0  23660000.0   7033200.0  1279100.0  3.236620e+09  \n",
       "2018-01-08  4279500.0  20567800.0   5580200.0  1047600.0  3.242650e+09  \n",
       "\n",
       "[5 rows x 36 columns]"
      ]
     },
     "execution_count": 21,
     "metadata": {},
     "output_type": "execute_result"
    }
   ],
   "source": [
    "tickers8 = [\"FB\", \"AMZN\", \"AAPL\", \"NFLX\", \"GOOG\", \"^GSPC\"]\n",
    "multpl_stocks = web.get_data_yahoo(tickers8,\n",
    "start = \"2018-01-01\",\n",
    "end = \"2018-12-31\")\n",
    "multpl_stocks.head()"
   ]
  },
  {
   "cell_type": "code",
   "execution_count": 22,
   "metadata": {},
   "outputs": [
    {
     "data": {
      "text/html": [
       "<div>\n",
       "<style scoped>\n",
       "    .dataframe tbody tr th:only-of-type {\n",
       "        vertical-align: middle;\n",
       "    }\n",
       "\n",
       "    .dataframe tbody tr th {\n",
       "        vertical-align: top;\n",
       "    }\n",
       "\n",
       "    .dataframe thead th {\n",
       "        text-align: right;\n",
       "    }\n",
       "</style>\n",
       "<table border=\"1\" class=\"dataframe\">\n",
       "  <thead>\n",
       "    <tr style=\"text-align: right;\">\n",
       "      <th>Symbols</th>\n",
       "      <th>FB</th>\n",
       "      <th>AMZN</th>\n",
       "      <th>AAPL</th>\n",
       "      <th>NFLX</th>\n",
       "      <th>GOOG</th>\n",
       "      <th>^GSPC</th>\n",
       "    </tr>\n",
       "    <tr>\n",
       "      <th>Date</th>\n",
       "      <th></th>\n",
       "      <th></th>\n",
       "      <th></th>\n",
       "      <th></th>\n",
       "      <th></th>\n",
       "      <th></th>\n",
       "    </tr>\n",
       "  </thead>\n",
       "  <tbody>\n",
       "    <tr>\n",
       "      <td>2018-01-02</td>\n",
       "      <td>NaN</td>\n",
       "      <td>NaN</td>\n",
       "      <td>NaN</td>\n",
       "      <td>NaN</td>\n",
       "      <td>NaN</td>\n",
       "      <td>NaN</td>\n",
       "    </tr>\n",
       "    <tr>\n",
       "      <td>2018-01-03</td>\n",
       "      <td>0.017914</td>\n",
       "      <td>0.012775</td>\n",
       "      <td>-0.000174</td>\n",
       "      <td>0.019794</td>\n",
       "      <td>0.016413</td>\n",
       "      <td>0.006399</td>\n",
       "    </tr>\n",
       "    <tr>\n",
       "      <td>2018-01-04</td>\n",
       "      <td>-0.001841</td>\n",
       "      <td>0.004476</td>\n",
       "      <td>0.004645</td>\n",
       "      <td>0.002829</td>\n",
       "      <td>0.003621</td>\n",
       "      <td>0.004029</td>\n",
       "    </tr>\n",
       "    <tr>\n",
       "      <td>2018-01-05</td>\n",
       "      <td>0.013671</td>\n",
       "      <td>0.016163</td>\n",
       "      <td>0.011385</td>\n",
       "      <td>0.021203</td>\n",
       "      <td>0.014571</td>\n",
       "      <td>0.007034</td>\n",
       "    </tr>\n",
       "    <tr>\n",
       "      <td>2018-01-08</td>\n",
       "      <td>0.007653</td>\n",
       "      <td>0.014425</td>\n",
       "      <td>-0.003714</td>\n",
       "      <td>0.009810</td>\n",
       "      <td>0.004273</td>\n",
       "      <td>0.001662</td>\n",
       "    </tr>\n",
       "  </tbody>\n",
       "</table>\n",
       "</div>"
      ],
      "text/plain": [
       "Symbols           FB      AMZN      AAPL      NFLX      GOOG     ^GSPC\n",
       "Date                                                                  \n",
       "2018-01-02       NaN       NaN       NaN       NaN       NaN       NaN\n",
       "2018-01-03  0.017914  0.012775 -0.000174  0.019794  0.016413  0.006399\n",
       "2018-01-04 -0.001841  0.004476  0.004645  0.002829  0.003621  0.004029\n",
       "2018-01-05  0.013671  0.016163  0.011385  0.021203  0.014571  0.007034\n",
       "2018-01-08  0.007653  0.014425 -0.003714  0.009810  0.004273  0.001662"
      ]
     },
     "execution_count": 22,
     "metadata": {},
     "output_type": "execute_result"
    }
   ],
   "source": [
    "multpl_stock_daily_returns = multpl_stocks['Adj Close'].pct_change()\n",
    "multpl_stock_daily_returns.head()"
   ]
  },
  {
   "cell_type": "code",
   "execution_count": 23,
   "metadata": {},
   "outputs": [
    {
     "data": {
      "text/html": [
       "<div>\n",
       "<style scoped>\n",
       "    .dataframe tbody tr th:only-of-type {\n",
       "        vertical-align: middle;\n",
       "    }\n",
       "\n",
       "    .dataframe tbody tr th {\n",
       "        vertical-align: top;\n",
       "    }\n",
       "\n",
       "    .dataframe thead th {\n",
       "        text-align: right;\n",
       "    }\n",
       "</style>\n",
       "<table border=\"1\" class=\"dataframe\">\n",
       "  <thead>\n",
       "    <tr style=\"text-align: right;\">\n",
       "      <th>Symbols</th>\n",
       "      <th>FB</th>\n",
       "      <th>AMZN</th>\n",
       "      <th>AAPL</th>\n",
       "      <th>NFLX</th>\n",
       "      <th>GOOG</th>\n",
       "      <th>^GSPC</th>\n",
       "    </tr>\n",
       "    <tr>\n",
       "      <th>Symbols</th>\n",
       "      <th></th>\n",
       "      <th></th>\n",
       "      <th></th>\n",
       "      <th></th>\n",
       "      <th></th>\n",
       "      <th></th>\n",
       "    </tr>\n",
       "  </thead>\n",
       "  <tbody>\n",
       "    <tr>\n",
       "      <td>FB</td>\n",
       "      <td>1.000000</td>\n",
       "      <td>0.578176</td>\n",
       "      <td>0.444105</td>\n",
       "      <td>0.482774</td>\n",
       "      <td>0.622293</td>\n",
       "      <td>0.569408</td>\n",
       "    </tr>\n",
       "    <tr>\n",
       "      <td>AMZN</td>\n",
       "      <td>0.578176</td>\n",
       "      <td>1.000000</td>\n",
       "      <td>0.660381</td>\n",
       "      <td>0.730339</td>\n",
       "      <td>0.750268</td>\n",
       "      <td>0.766155</td>\n",
       "    </tr>\n",
       "    <tr>\n",
       "      <td>AAPL</td>\n",
       "      <td>0.444105</td>\n",
       "      <td>0.660381</td>\n",
       "      <td>1.000000</td>\n",
       "      <td>0.547638</td>\n",
       "      <td>0.680853</td>\n",
       "      <td>0.744693</td>\n",
       "    </tr>\n",
       "    <tr>\n",
       "      <td>NFLX</td>\n",
       "      <td>0.482774</td>\n",
       "      <td>0.730339</td>\n",
       "      <td>0.547638</td>\n",
       "      <td>1.000000</td>\n",
       "      <td>0.647231</td>\n",
       "      <td>0.681404</td>\n",
       "    </tr>\n",
       "    <tr>\n",
       "      <td>GOOG</td>\n",
       "      <td>0.622293</td>\n",
       "      <td>0.750268</td>\n",
       "      <td>0.680853</td>\n",
       "      <td>0.647231</td>\n",
       "      <td>1.000000</td>\n",
       "      <td>0.830517</td>\n",
       "    </tr>\n",
       "    <tr>\n",
       "      <td>^GSPC</td>\n",
       "      <td>0.569408</td>\n",
       "      <td>0.766155</td>\n",
       "      <td>0.744693</td>\n",
       "      <td>0.681404</td>\n",
       "      <td>0.830517</td>\n",
       "      <td>1.000000</td>\n",
       "    </tr>\n",
       "  </tbody>\n",
       "</table>\n",
       "</div>"
      ],
      "text/plain": [
       "Symbols        FB      AMZN      AAPL      NFLX      GOOG     ^GSPC\n",
       "Symbols                                                            \n",
       "FB       1.000000  0.578176  0.444105  0.482774  0.622293  0.569408\n",
       "AMZN     0.578176  1.000000  0.660381  0.730339  0.750268  0.766155\n",
       "AAPL     0.444105  0.660381  1.000000  0.547638  0.680853  0.744693\n",
       "NFLX     0.482774  0.730339  0.547638  1.000000  0.647231  0.681404\n",
       "GOOG     0.622293  0.750268  0.680853  0.647231  1.000000  0.830517\n",
       "^GSPC    0.569408  0.766155  0.744693  0.681404  0.830517  1.000000"
      ]
     },
     "execution_count": 23,
     "metadata": {},
     "output_type": "execute_result"
    }
   ],
   "source": [
    "multpl_stock_daily_returns.corr()"
   ]
  },
  {
   "cell_type": "code",
   "execution_count": null,
   "metadata": {},
   "outputs": [],
   "source": [
    "#GOOGLE is the most correlated with the S&P500 and FACEBOOK is the least correlated with S&P500"
   ]
  }
 ],
 "metadata": {
  "kernelspec": {
   "display_name": "Python 3",
   "language": "python",
   "name": "python3"
  },
  "language_info": {
   "codemirror_mode": {
    "name": "ipython",
    "version": 3
   },
   "file_extension": ".py",
   "mimetype": "text/x-python",
   "name": "python",
   "nbconvert_exporter": "python",
   "pygments_lexer": "ipython3",
   "version": "3.7.4"
  }
 },
 "nbformat": 4,
 "nbformat_minor": 4
}
